{
 "cells": [
  {
   "cell_type": "code",
   "execution_count": 1,
   "metadata": {},
   "outputs": [],
   "source": [
    "import nltk"
   ]
  },
  {
   "cell_type": "code",
   "execution_count": 2,
   "metadata": {},
   "outputs": [
    {
     "name": "stderr",
     "output_type": "stream",
     "text": [
      "[nltk_data] Downloading package punkt to C:\\Users\\hrashikesh\n",
      "[nltk_data]     hegde\\AppData\\Roaming\\nltk_data...\n",
      "[nltk_data]   Package punkt is already up-to-date!\n"
     ]
    },
    {
     "data": {
      "text/plain": [
       "True"
      ]
     },
     "execution_count": 2,
     "metadata": {},
     "output_type": "execute_result"
    }
   ],
   "source": [
    "nltk.download('punkt')"
   ]
  },
  {
   "cell_type": "code",
   "execution_count": 3,
   "metadata": {},
   "outputs": [],
   "source": [
    "text=\"\"\"\"Hello Miss.Swathi, how are you doing today?Today the weather seems great,\n",
    "and bangalore city looks awsome.what did you eat in breakfast today morning\"\"\""
   ]
  },
  {
   "cell_type": "code",
   "execution_count": 4,
   "metadata": {},
   "outputs": [
    {
     "name": "stdout",
     "output_type": "stream",
     "text": [
      "['\"Hello Miss.Swathi, how are you doing today?Today the weather seems great,\\nand bangalore city looks awsome.what did you eat in breakfast today morning']\n"
     ]
    }
   ],
   "source": [
    "from nltk.tokenize import sent_tokenize\n",
    "tokenized_text=sent_tokenize(text)\n",
    "print(tokenized_text)"
   ]
  },
  {
   "cell_type": "code",
   "execution_count": 5,
   "metadata": {},
   "outputs": [
    {
     "name": "stdout",
     "output_type": "stream",
     "text": [
      "['``', 'Hello', 'Miss.Swathi', ',', 'how', 'are', 'you', 'doing', 'today', '?', 'Today', 'the', 'weather', 'seems', 'great', ',', 'and', 'bangalore', 'city', 'looks', 'awsome.what', 'did', 'you', 'eat', 'in', 'breakfast', 'today', 'morning']\n"
     ]
    }
   ],
   "source": [
    "from nltk.tokenize import word_tokenize\n",
    "tokenized_word=word_tokenize(text)\n",
    "print(tokenized_word)"
   ]
  },
  {
   "cell_type": "code",
   "execution_count": 6,
   "metadata": {},
   "outputs": [
    {
     "name": "stdout",
     "output_type": "stream",
     "text": [
      "['``', 'hello', 'miss.swathi', ',', 'how', 'are', 'you', 'doing', 'today', '?', 'today', 'the', 'weather', 'seems', 'great', ',', 'and', 'bangalore', 'city', 'looks', 'awsome.what', 'did', 'you', 'eat', 'in', 'breakfast', 'today', 'morning']\n"
     ]
    }
   ],
   "source": [
    "tokens=[w.lower() for w in tokenized_word]\n",
    "print(tokens)"
   ]
  },
  {
   "cell_type": "code",
   "execution_count": 7,
   "metadata": {},
   "outputs": [],
   "source": [
    "not_required=['doing']\n",
    "def noise_removal(text):\n",
    "    words=text.split()\n",
    "    final_text=[word for word in words if word not in not_required]\n",
    "    final_text=\"  \".join(final_text)\n",
    "    return final_text"
   ]
  },
  {
   "cell_type": "code",
   "execution_count": 8,
   "metadata": {},
   "outputs": [
    {
     "data": {
      "text/plain": [
       "'\"Hello  Miss.Swathi,  how  are  you  today?Today  the  weather  seems  great,  and  bangalore  city  looks  awsome.what  did  you  eat  in  breakfast  today  morning'"
      ]
     },
     "execution_count": 8,
     "metadata": {},
     "output_type": "execute_result"
    }
   ],
   "source": [
    "noise_removal(text)\n"
   ]
  },
  {
   "cell_type": "code",
   "execution_count": 9,
   "metadata": {},
   "outputs": [
    {
     "name": "stdout",
     "output_type": "stream",
     "text": [
      "['hello', 'how', 'are', 'you', 'doing', 'today', 'today', 'the', 'weather', 'seems', 'great', 'and', 'bangalore', 'city', 'looks', 'did', 'you', 'eat', 'in', 'breakfast', 'today', 'morning']\n"
     ]
    }
   ],
   "source": [
    "words=[word for word in tokens if word.isalpha()]\n",
    "print(words)"
   ]
  },
  {
   "cell_type": "code",
   "execution_count": 10,
   "metadata": {},
   "outputs": [
    {
     "name": "stdout",
     "output_type": "stream",
     "text": [
      "{'are', \"needn't\", 'ours', \"should've\", 'where', 'can', 'mightn', \"shouldn't\", 'than', 'and', 'herself', 'isn', 'were', 'before', 'its', 'nor', 'yourselves', \"wouldn't\", 'why', 'mustn', 'very', 'myself', 'into', 'ourselves', \"you're\", 'what', 'who', 'about', 'me', 'over', 'each', 'just', 'needn', 'the', 'had', \"wasn't\", 'be', 'yourself', 'your', 'themselves', 'during', 'down', 'this', 'now', 'wasn', \"weren't\", 'doesn', 'or', 'because', 'further', 'below', 'didn', 'for', 'he', 't', 'her', 'while', 'was', 'have', \"you've\", \"hadn't\", 'when', 'couldn', \"it's\", 'out', 'am', 'hadn', 'most', \"that'll\", 're', 'under', 'if', 'll', 'too', 'any', 'will', \"mustn't\", 'few', 'so', 'through', 'it', 'of', 'hasn', 'which', 'up', 'ma', 'by', 'shan', 'against', 'o', 'haven', 'theirs', 'my', 'only', 'has', 'not', 'here', \"couldn't\", 'there', 'his', 'an', 'should', 'him', \"she's\", \"shan't\", 'i', 'them', \"haven't\", \"you'd\", 'hers', 'more', 'weren', 'in', 'being', 'they', 'as', 'that', 'until', \"doesn't\", 'all', 'whom', 'aren', 'off', 'our', 'to', 'such', 'd', 'some', 'yours', 'shouldn', 'with', 'own', 'you', 'after', 'again', \"didn't\", 'same', 'between', 'ain', 'don', 'doing', 'wouldn', \"aren't\", 'at', 'their', 'does', 'do', 'y', 'we', 'been', 'did', 'other', 've', 'is', 'no', 'won', 'but', 'these', 'once', 'having', 's', 'a', 'those', 'on', \"mightn't\", \"isn't\", 'how', \"won't\", 'itself', 'above', 'then', 'm', 'from', \"hasn't\", 'himself', 'both', \"don't\", 'she', \"you'll\"}\n"
     ]
    },
    {
     "name": "stderr",
     "output_type": "stream",
     "text": [
      "[nltk_data] Downloading package stopwords to C:\\Users\\hrashikesh\n",
      "[nltk_data]     hegde\\AppData\\Roaming\\nltk_data...\n",
      "[nltk_data]   Package stopwords is already up-to-date!\n"
     ]
    }
   ],
   "source": [
    "nltk.download('stopwords')\n",
    "from nltk.corpus import stopwords\n",
    "stop_words=set(stopwords.words(\"english\"))\n",
    "print(stop_words)"
   ]
  },
  {
   "cell_type": "code",
   "execution_count": 11,
   "metadata": {},
   "outputs": [
    {
     "name": "stdout",
     "output_type": "stream",
     "text": [
      "[['hello', 'how', 'are', 'you', 'doing', 'today', 'today', 'the', 'weather', 'seems', 'great', 'and', 'bangalore', 'city', 'looks', 'did', 'you', 'eat', 'in', 'breakfast', 'today', 'morning'], ['hello', 'how', 'are', 'you', 'doing', 'today', 'today', 'the', 'weather', 'seems', 'great', 'and', 'bangalore', 'city', 'looks', 'did', 'you', 'eat', 'in', 'breakfast', 'today', 'morning'], ['hello', 'how', 'are', 'you', 'doing', 'today', 'today', 'the', 'weather', 'seems', 'great', 'and', 'bangalore', 'city', 'looks', 'did', 'you', 'eat', 'in', 'breakfast', 'today', 'morning'], ['hello', 'how', 'are', 'you', 'doing', 'today', 'today', 'the', 'weather', 'seems', 'great', 'and', 'bangalore', 'city', 'looks', 'did', 'you', 'eat', 'in', 'breakfast', 'today', 'morning'], ['hello', 'how', 'are', 'you', 'doing', 'today', 'today', 'the', 'weather', 'seems', 'great', 'and', 'bangalore', 'city', 'looks', 'did', 'you', 'eat', 'in', 'breakfast', 'today', 'morning'], ['hello', 'how', 'are', 'you', 'doing', 'today', 'today', 'the', 'weather', 'seems', 'great', 'and', 'bangalore', 'city', 'looks', 'did', 'you', 'eat', 'in', 'breakfast', 'today', 'morning'], ['hello', 'how', 'are', 'you', 'doing', 'today', 'today', 'the', 'weather', 'seems', 'great', 'and', 'bangalore', 'city', 'looks', 'did', 'you', 'eat', 'in', 'breakfast', 'today', 'morning'], ['hello', 'how', 'are', 'you', 'doing', 'today', 'today', 'the', 'weather', 'seems', 'great', 'and', 'bangalore', 'city', 'looks', 'did', 'you', 'eat', 'in', 'breakfast', 'today', 'morning'], ['hello', 'how', 'are', 'you', 'doing', 'today', 'today', 'the', 'weather', 'seems', 'great', 'and', 'bangalore', 'city', 'looks', 'did', 'you', 'eat', 'in', 'breakfast', 'today', 'morning'], ['hello', 'how', 'are', 'you', 'doing', 'today', 'today', 'the', 'weather', 'seems', 'great', 'and', 'bangalore', 'city', 'looks', 'did', 'you', 'eat', 'in', 'breakfast', 'today', 'morning'], ['hello', 'how', 'are', 'you', 'doing', 'today', 'today', 'the', 'weather', 'seems', 'great', 'and', 'bangalore', 'city', 'looks', 'did', 'you', 'eat', 'in', 'breakfast', 'today', 'morning'], ['hello', 'how', 'are', 'you', 'doing', 'today', 'today', 'the', 'weather', 'seems', 'great', 'and', 'bangalore', 'city', 'looks', 'did', 'you', 'eat', 'in', 'breakfast', 'today', 'morning'], ['hello', 'how', 'are', 'you', 'doing', 'today', 'today', 'the', 'weather', 'seems', 'great', 'and', 'bangalore', 'city', 'looks', 'did', 'you', 'eat', 'in', 'breakfast', 'today', 'morning']]\n"
     ]
    }
   ],
   "source": [
    "words=[words for word in words if not word in stop_words]\n",
    "print(words)"
   ]
  },
  {
   "cell_type": "code",
   "execution_count": 12,
   "metadata": {},
   "outputs": [
    {
     "name": "stdout",
     "output_type": "stream",
     "text": [
      "Filtered Sentence: ['``', 'Hello', 'Miss.Swathi', ',', 'how', 'are', 'you', 'doing', 'today', '?', 'Today', 'the', 'weather', 'seems', 'great', ',', 'and', 'bangalore', 'city', 'looks', 'awsome.what', 'did', 'you', 'eat', 'in', 'breakfast', 'today', 'morning']\n",
      "Stemmed Sentence: ['``', 'hello', 'miss.swathi', ',', 'how', 'are', 'you', 'do', 'today', '?', 'today', 'the', 'weather', 'seem', 'great', ',', 'and', 'bangalor', 'citi', 'look', 'awsome.what', 'did', 'you', 'eat', 'in', 'breakfast', 'today', 'morn']\n"
     ]
    }
   ],
   "source": [
    "from nltk.stem import PorterStemmer\n",
    "from nltk.tokenize import sent_tokenize,word_tokenize\n",
    "\n",
    "ps=PorterStemmer()\n",
    "\n",
    "stemmed_words=[]\n",
    "for w in tokenized_word:\n",
    "    stemmed_words.append(ps.stem(w))\n",
    "    \n",
    "print(\"Filtered Sentence:\",tokenized_word)\n",
    "print(\"Stemmed Sentence:\",stemmed_words)\n"
   ]
  },
  {
   "cell_type": "code",
   "execution_count": null,
   "metadata": {},
   "outputs": [],
   "source": []
  },
  {
   "cell_type": "code",
   "execution_count": null,
   "metadata": {},
   "outputs": [],
   "source": []
  }
 ],
 "metadata": {
  "kernelspec": {
   "display_name": "Python 3",
   "language": "python",
   "name": "python3"
  },
  "language_info": {
   "codemirror_mode": {
    "name": "ipython",
    "version": 3
   },
   "file_extension": ".py",
   "mimetype": "text/x-python",
   "name": "python",
   "nbconvert_exporter": "python",
   "pygments_lexer": "ipython3",
   "version": "3.7.4"
  }
 },
 "nbformat": 4,
 "nbformat_minor": 2
}
